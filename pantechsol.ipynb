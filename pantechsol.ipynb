{
  "nbformat": 4,
  "nbformat_minor": 0,
  "metadata": {
    "colab": {
      "provenance": []
    },
    "kernelspec": {
      "name": "python3",
      "display_name": "Python 3"
    },
    "language_info": {
      "name": "python"
    }
  },
  "cells": [
    {
      "cell_type": "code",
      "execution_count": null,
      "metadata": {
        "colab": {
          "base_uri": "https://localhost:8080/"
        },
        "id": "TU7ZtxJmznGX",
        "outputId": "18dac489-151b-4096-c3ca-6b165dbffa78"
      },
      "outputs": [
        {
          "output_type": "stream",
          "name": "stdout",
          "text": [
            "['elonmusk', 'stevejobs', 'billgates']\n",
            "stevejobs\n"
          ]
        }
      ],
      "source": [
        "c = \"elonmusk,stevejobs,billgates\"\n",
        "d = c.split(\",\")\n",
        "print(d)\n",
        "print(d[1])\n"
      ]
    },
    {
      "cell_type": "code",
      "source": [
        "a = \" master class\"\n",
        "print(f\"welcome to python {a}!\")"
      ],
      "metadata": {
        "colab": {
          "base_uri": "https://localhost:8080/"
        },
        "id": "F4CyPIGT0WJ0",
        "outputId": "f20642b2-d969-429b-f171-b84a2dc6eb6a"
      },
      "execution_count": null,
      "outputs": [
        {
          "output_type": "stream",
          "name": "stdout",
          "text": [
            "welcome to python  master class!\n"
          ]
        }
      ]
    },
    {
      "cell_type": "code",
      "source": [
        "a = [1,2,3,4,5]\n",
        "b = [\"champ\",21,99,5]\n",
        "print(a+b)\n",
        "print(len(a))\n",
        "print(b[0])\n",
        "print(a[1:])\n",
        "print(a[1:2])\n",
        "print(a+b)"
      ],
      "metadata": {
        "colab": {
          "base_uri": "https://localhost:8080/"
        },
        "id": "M53Lt_7k0wQb",
        "outputId": "a43319d5-b482-4965-d3d1-454f10779c42"
      },
      "execution_count": null,
      "outputs": [
        {
          "output_type": "stream",
          "name": "stdout",
          "text": [
            "[1, 2, 3, 4, 5, 'champ', 21, 99, 5]\n",
            "5\n",
            "champ\n",
            "[2, 3, 4, 5]\n",
            "[2]\n",
            "[1, 2, 3, 4, 5, 'champ', 21, 99, 5]\n"
          ]
        }
      ]
    },
    {
      "cell_type": "code",
      "source": [
        "a = [1,2,3,4,5]\n",
        "\n",
        "a.append(6)\n",
        "a.reverse()\n",
        "print(min(a))\n",
        "print(max(a))\n",
        "# print(sum(a)\n",
        "print(a)"
      ],
      "metadata": {
        "colab": {
          "base_uri": "https://localhost:8080/"
        },
        "id": "YUCqlzt81mLY",
        "outputId": "468503d7-8a45-468c-b2d4-8fbd2d9c450f"
      },
      "execution_count": null,
      "outputs": [
        {
          "output_type": "stream",
          "name": "stdout",
          "text": [
            "1\n",
            "6\n",
            "[6, 5, 4, 3, 2, 1]\n"
          ]
        }
      ]
    },
    {
      "cell_type": "code",
      "source": [
        "a = [1,2,3,4,5]\n",
        "from random import shuffle\n",
        "shuffle(a)\n",
        "print(a)"
      ],
      "metadata": {
        "id": "7MDh2BEu2Gr_",
        "colab": {
          "base_uri": "https://localhost:8080/"
        },
        "outputId": "5ecd2fd5-48c4-4510-b490-0e7945f82834"
      },
      "execution_count": null,
      "outputs": [
        {
          "output_type": "stream",
          "name": "stdout",
          "text": [
            "[2, 3, 4, 5, 1]\n"
          ]
        }
      ]
    },
    {
      "cell_type": "code",
      "source": [
        "a = [ 1,2,3]\n",
        "b = [4,5,6]\n",
        "c = [ a,b]\n",
        "print(c)\n",
        "print(c[0])\n",
        "print(c[0][0])"
      ],
      "metadata": {
        "colab": {
          "base_uri": "https://localhost:8080/"
        },
        "id": "d5TCs0FBAJSS",
        "outputId": "54979546-1385-43da-8eed-d894eb39903c"
      },
      "execution_count": null,
      "outputs": [
        {
          "output_type": "stream",
          "name": "stdout",
          "text": [
            "[[1, 2, 3], [4, 5, 6]]\n",
            "[1, 2, 3]\n",
            "1\n"
          ]
        }
      ]
    },
    {
      "cell_type": "code",
      "source": [
        "a ={\"name\":\"elon\",\"age\":50,\"company\":\"tesla\"}\n",
        "a"
      ],
      "metadata": {
        "colab": {
          "base_uri": "https://localhost:8080/"
        },
        "id": "qlAMbfeKAgUa",
        "outputId": "a721d38e-42c8-4292-b004-5077b94ec847"
      },
      "execution_count": null,
      "outputs": [
        {
          "output_type": "execute_result",
          "data": {
            "text/plain": [
              "{'name': 'elon', 'age': 50, 'company': 'tesla'}"
            ]
          },
          "metadata": {},
          "execution_count": 7
        }
      ]
    },
    {
      "cell_type": "markdown",
      "source": [],
      "metadata": {
        "id": "KxNw2Ft3AdpO"
      }
    },
    {
      "cell_type": "code",
      "source": [
        "a ={\"name\":\"elon\",\"age\":50,\"company\":\"tesla\"}\n",
        "print(a[\"name\"])\n",
        "a[\"age\"]=51\n",
        "a"
      ],
      "metadata": {
        "colab": {
          "base_uri": "https://localhost:8080/"
        },
        "id": "fR7lxG2MA4JW",
        "outputId": "c6d37d94-0821-49ea-da3e-3d187c582d45"
      },
      "execution_count": null,
      "outputs": [
        {
          "output_type": "stream",
          "name": "stdout",
          "text": [
            "elon\n"
          ]
        },
        {
          "output_type": "execute_result",
          "data": {
            "text/plain": [
              "{'name': 'elon', 'age': 51, 'company': 'tesla'}"
            ]
          },
          "metadata": {},
          "execution_count": 9
        }
      ]
    },
    {
      "cell_type": "code",
      "source": [
        "a = set()\n",
        "a.add(1)\n",
        "a.add(2)\n",
        "a.add(3)\n",
        "a.add(4)\n",
        "a.add(5)\n"
      ],
      "metadata": {
        "id": "oIw3jvAgBDB-"
      },
      "execution_count": null,
      "outputs": []
    },
    {
      "cell_type": "code",
      "source": [
        "a = True\n",
        "if a:\n",
        "    print(\"positive\")\n",
        "else:\n",
        "    print(\"negative\")"
      ],
      "metadata": {
        "colab": {
          "base_uri": "https://localhost:8080/"
        },
        "id": "Jgcc2h7HBn6y",
        "outputId": "69e931de-71dd-46ab-9792-4b225bfa3661"
      },
      "execution_count": null,
      "outputs": [
        {
          "output_type": "stream",
          "name": "stdout",
          "text": [
            "positive\n"
          ]
        }
      ]
    },
    {
      "cell_type": "code",
      "source": [
        "a = 5\n",
        "b = 6\n",
        "c = 6\n",
        "if a>b :\n",
        "    print(\"a is less than b\")\n",
        "elif  c==b:\n",
        "    print(\"c is equal to b\")\n",
        "    print(\"a is not less than b\")\n",
        "    if c<a:\n",
        "        print(\"c is less than a\")\n",
        "else:\n",
        "    print(\"a is not less than b\")\n"
      ],
      "metadata": {
        "colab": {
          "base_uri": "https://localhost:8080/"
        },
        "id": "BMP95h6ECcME",
        "outputId": "bd2e5cc8-2503-4202-bc05-27dbd3e8439d"
      },
      "execution_count": null,
      "outputs": [
        {
          "output_type": "stream",
          "name": "stdout",
          "text": [
            "c is equal to b\n",
            "a is not less than b\n"
          ]
        }
      ]
    },
    {
      "cell_type": "code",
      "source": [
        "a = [1,2,3,4,5,6,7,8,9,10]\n",
        "for i in a:\n",
        "    print(i)"
      ],
      "metadata": {
        "colab": {
          "base_uri": "https://localhost:8080/"
        },
        "id": "7g5Kz-T6EBQp",
        "outputId": "224719f9-11a1-44e3-c6f0-3ef6fa468c7f"
      },
      "execution_count": null,
      "outputs": [
        {
          "output_type": "stream",
          "name": "stdout",
          "text": [
            "1\n",
            "2\n",
            "3\n",
            "4\n",
            "5\n",
            "6\n",
            "7\n",
            "8\n",
            "9\n",
            "10\n"
          ]
        }
      ]
    },
    {
      "cell_type": "code",
      "source": [
        "a = [x for x in range(1,11)]\n",
        "print(a)"
      ],
      "metadata": {
        "colab": {
          "base_uri": "https://localhost:8080/"
        },
        "id": "KG0yFeRGEzxl",
        "outputId": "56b7f466-64d4-43a0-ba93-a5bca42a998b"
      },
      "execution_count": null,
      "outputs": [
        {
          "output_type": "stream",
          "name": "stdout",
          "text": [
            "[1, 2, 3, 4, 5, 6, 7, 8, 9, 10]\n"
          ]
        }
      ]
    },
    {
      "cell_type": "code",
      "source": [
        "a = [x for x in \"champ\"]\n",
        "print(a)"
      ],
      "metadata": {
        "colab": {
          "base_uri": "https://localhost:8080/"
        },
        "id": "ZrjoP_5FFJoK",
        "outputId": "01d809aa-7572-41a0-a2a3-1ea71080aa3f"
      },
      "execution_count": null,
      "outputs": [
        {
          "output_type": "stream",
          "name": "stdout",
          "text": [
            "['c', 'h', 'a', 'm', 'p']\n"
          ]
        }
      ]
    },
    {
      "cell_type": "code",
      "source": [
        "a = [1,2,3,4,5,6,7,8,9,10]\n",
        "for i in a :\n",
        "    if i%2==0:\n",
        "        print(i,'even')\n",
        "    else:\n",
        "        print(i,'odd')"
      ],
      "metadata": {
        "colab": {
          "base_uri": "https://localhost:8080/"
        },
        "id": "YnmcyoJ_Famh",
        "outputId": "bc65c4f3-653b-4e41-f9cf-8ffce6a54a0e"
      },
      "execution_count": null,
      "outputs": [
        {
          "output_type": "stream",
          "name": "stdout",
          "text": [
            "1 odd\n",
            "2 even\n",
            "3 odd\n",
            "4 even\n",
            "5 odd\n",
            "6 even\n",
            "7 odd\n",
            "8 even\n",
            "9 odd\n",
            "10 even\n"
          ]
        }
      ]
    },
    {
      "cell_type": "code",
      "source": [],
      "metadata": {
        "id": "mIGh1jQfG4Xq"
      },
      "execution_count": null,
      "outputs": []
    },
    {
      "cell_type": "code",
      "source": [
        "a ={\"Name\":\"Elon\",\"Age\":50,\"Company\":[\"Tesla\",\"SpaceX\"]}\n",
        "for k,v in a.items():## k = key, v= values\n",
        "    print(k)\n",
        "    print(v)"
      ],
      "metadata": {
        "colab": {
          "base_uri": "https://localhost:8080/"
        },
        "id": "zhz1Xo4PF1pG",
        "outputId": "3c1f1eee-ff4f-468e-cd5c-4be797060a22"
      },
      "execution_count": null,
      "outputs": [
        {
          "output_type": "stream",
          "name": "stdout",
          "text": [
            "Name\n",
            "Elon\n",
            "Age\n",
            "50\n",
            "Company\n",
            "['Tesla', 'SpaceX']\n"
          ]
        }
      ]
    },
    {
      "cell_type": "code",
      "source": [
        "a = 0\n",
        "while a<11:\n",
        "    print(a)\n",
        "    a+=1\n"
      ],
      "metadata": {
        "colab": {
          "base_uri": "https://localhost:8080/"
        },
        "id": "nAUzI7rsHPFV",
        "outputId": "fe37b697-b446-43be-edba-86df7a8446fb"
      },
      "execution_count": null,
      "outputs": [
        {
          "output_type": "stream",
          "name": "stdout",
          "text": [
            "0\n",
            "1\n",
            "2\n",
            "3\n",
            "4\n",
            "5\n",
            "6\n",
            "7\n",
            "8\n",
            "9\n",
            "10\n"
          ]
        }
      ]
    },
    {
      "cell_type": "code",
      "source": [
        "a = 0\n",
        "while a<11:\n",
        "    print(a)\n",
        "    a+=1\n",
        "    if a==5:\n",
        "      print(\"a is 5\")\n",
        "      break\n",
        "    else:\n",
        "      print(\"contoinuee\")\n",
        "\n",
        "\n"
      ],
      "metadata": {
        "colab": {
          "base_uri": "https://localhost:8080/"
        },
        "id": "L2FQKhBdHgu9",
        "outputId": "317bc8ec-51be-46a2-f9a1-051b5a6222cc"
      },
      "execution_count": null,
      "outputs": [
        {
          "output_type": "stream",
          "name": "stdout",
          "text": [
            "0\n",
            "contoinuee\n",
            "1\n",
            "contoinuee\n",
            "2\n",
            "contoinuee\n",
            "3\n",
            "contoinuee\n",
            "4\n",
            "a is 5\n"
          ]
        }
      ]
    },
    {
      "cell_type": "code",
      "source": [
        "for a in range (6):\n",
        "    print(a)"
      ],
      "metadata": {
        "colab": {
          "base_uri": "https://localhost:8080/"
        },
        "id": "vldxplTXIQm-",
        "outputId": "38b31c94-dab1-4e6d-ea8a-70ca833f25ae"
      },
      "execution_count": null,
      "outputs": [
        {
          "output_type": "stream",
          "name": "stdout",
          "text": [
            "0\n",
            "1\n",
            "2\n",
            "3\n",
            "4\n",
            "5\n"
          ]
        }
      ]
    },
    {
      "cell_type": "code",
      "source": [
        "for a in range (1,10,3):\n",
        "    print(a)"
      ],
      "metadata": {
        "colab": {
          "base_uri": "https://localhost:8080/"
        },
        "id": "XTfqLnPaIY-U",
        "outputId": "062a9982-88ae-4a1e-d82a-596329e04e57"
      },
      "execution_count": null,
      "outputs": [
        {
          "output_type": "stream",
          "name": "stdout",
          "text": [
            "1\n",
            "4\n",
            "7\n"
          ]
        }
      ]
    },
    {
      "cell_type": "code",
      "source": [
        "for a in range(10,0,-2):\n",
        "    print(a)"
      ],
      "metadata": {
        "colab": {
          "base_uri": "https://localhost:8080/"
        },
        "id": "MqUxraESIeV7",
        "outputId": "9679dcc6-ef70-4869-b637-7250c2f53f4c"
      },
      "execution_count": null,
      "outputs": [
        {
          "output_type": "stream",
          "name": "stdout",
          "text": [
            "10\n",
            "8\n",
            "6\n",
            "4\n",
            "2\n"
          ]
        }
      ]
    },
    {
      "cell_type": "code",
      "source": [
        "a = [i**2 for i in range(0,5)]\n",
        "a"
      ],
      "metadata": {
        "colab": {
          "base_uri": "https://localhost:8080/"
        },
        "id": "hTZB-84DI3Qi",
        "outputId": "bad413e7-3333-45d8-a75d-762f83924665"
      },
      "execution_count": null,
      "outputs": [
        {
          "output_type": "execute_result",
          "data": {
            "text/plain": [
              "[0, 1, 4, 9, 16]"
            ]
          },
          "metadata": {},
          "execution_count": 32
        }
      ]
    },
    {
      "cell_type": "code",
      "source": [
        "a = [i for i in range (10) if i%2==0]\n",
        "a"
      ],
      "metadata": {
        "colab": {
          "base_uri": "https://localhost:8080/"
        },
        "id": "vZceTWW_JAAr",
        "outputId": "a9c27022-5a67-49ed-b001-1ac8663dc6bf"
      },
      "execution_count": null,
      "outputs": [
        {
          "output_type": "execute_result",
          "data": {
            "text/plain": [
              "[0, 2, 4, 6, 8]"
            ]
          },
          "metadata": {},
          "execution_count": 33
        }
      ]
    },
    {
      "cell_type": "code",
      "source": [
        "## enumerate track\n",
        "a=0\n",
        "for i, a in enumerate(\"champ\"):\n",
        "    print(i,a)\n"
      ],
      "metadata": {
        "colab": {
          "base_uri": "https://localhost:8080/"
        },
        "id": "cBDu71nbJNDj",
        "outputId": "ba5486a3-eb71-4894-d627-8b752dd2320b"
      },
      "execution_count": null,
      "outputs": [
        {
          "output_type": "stream",
          "name": "stdout",
          "text": [
            "0 c\n",
            "1 h\n",
            "2 a\n",
            "3 m\n",
            "4 p\n"
          ]
        }
      ]
    },
    {
      "cell_type": "code",
      "source": [
        "a = [\"Name\",\"Age\",\"Country\"]\n",
        "b = [\"Champ\",27,\"India\"]\n",
        "list(zip(a,b))"
      ],
      "metadata": {
        "colab": {
          "base_uri": "https://localhost:8080/"
        },
        "id": "xAk7ZkPAJ6zj",
        "outputId": "04148d60-30fe-4cc5-bab4-5f3d594b6121"
      },
      "execution_count": null,
      "outputs": [
        {
          "output_type": "execute_result",
          "data": {
            "text/plain": [
              "[('Name', 'Champ'), ('Age', 27), ('Country', 'India')]"
            ]
          },
          "metadata": {},
          "execution_count": 35
        }
      ]
    },
    {
      "cell_type": "code",
      "source": [
        "def welcome():\n",
        "  print(\"welcome to python\")\n",
        "welcome()"
      ],
      "metadata": {
        "colab": {
          "base_uri": "https://localhost:8080/"
        },
        "id": "PCJZJ1Q-5dwk",
        "outputId": "fc0890c8-71f1-4e0d-d26f-03a3ce92af13"
      },
      "execution_count": null,
      "outputs": [
        {
          "output_type": "stream",
          "name": "stdout",
          "text": [
            "welcome to python\n"
          ]
        }
      ]
    },
    {
      "cell_type": "code",
      "source": [
        "def add(a,b):\n",
        "  add = a+b\n",
        "  print(\"sum of {0} and {1} is {2}\".format(a,b,add))"
      ],
      "metadata": {
        "id": "MZETpORx5uXx"
      },
      "execution_count": null,
      "outputs": []
    },
    {
      "cell_type": "code",
      "source": [
        "def add(a,b):\n",
        "  add = a+b\n",
        "  return add"
      ],
      "metadata": {
        "id": "v9ofNoNx7ziW"
      },
      "execution_count": null,
      "outputs": []
    },
    {
      "cell_type": "code",
      "source": [
        "add(45,4)"
      ],
      "metadata": {
        "colab": {
          "base_uri": "https://localhost:8080/"
        },
        "id": "Tfkkg05y73A8",
        "outputId": "bb0fea40-a69b-4621-d4fe-b692f5661a24"
      },
      "execution_count": null,
      "outputs": [
        {
          "output_type": "execute_result",
          "data": {
            "text/plain": [
              "49"
            ]
          },
          "metadata": {},
          "execution_count": 4
        }
      ]
    },
    {
      "cell_type": "code",
      "source": [
        "def check(numbers):\n",
        "  primeNumber = []\n",
        "  for number in numbers:\n",
        "    if number>1:\n",
        "      for i in range(2, int(number/2)+1):\n",
        "        if (number % i)== 0:\n",
        "          print(number,\"number is not a prime number\")\n",
        "          break\n",
        "        else:\n",
        "          print(number,\"number is a prime number\")\n",
        "          primeNumber.append(number)\n",
        "      else:\n",
        "        pass\n",
        "  return primeNumber\n",
        "\n"
      ],
      "metadata": {
        "id": "--PLhOfm8Ca-"
      },
      "execution_count": null,
      "outputs": []
    },
    {
      "cell_type": "code",
      "source": [
        "check([2,3,4,5,6,7,8,9])"
      ],
      "metadata": {
        "colab": {
          "base_uri": "https://localhost:8080/"
        },
        "id": "qznKW4sp9Li8",
        "outputId": "facd655d-8803-401c-f7a1-2edf7656607b"
      },
      "execution_count": null,
      "outputs": [
        {
          "output_type": "stream",
          "name": "stdout",
          "text": [
            "4 number is not a prime number\n",
            "5 number is not a prime number\n",
            "6 number is not a prime number\n",
            "7 number is not a prime number\n",
            "8 number is not a prime number\n",
            "9 number is not a prime number\n"
          ]
        },
        {
          "output_type": "execute_result",
          "data": {
            "text/plain": [
              "[]"
            ]
          },
          "metadata": {},
          "execution_count": 11
        }
      ]
    },
    {
      "cell_type": "code",
      "source": [
        "def cubeFn(num):\n",
        "  return num**3\n"
      ],
      "metadata": {
        "id": "b0_REbbsq4B6"
      },
      "execution_count": null,
      "outputs": []
    },
    {
      "cell_type": "code",
      "source": [
        "a = [1,2,3,4,5]\n",
        "list(map(cubeFn,a))"
      ],
      "metadata": {
        "colab": {
          "base_uri": "https://localhost:8080/"
        },
        "id": "rsRRS1RerKuy",
        "outputId": "9bc63959-32e8-4b49-86dd-aad499611253"
      },
      "execution_count": null,
      "outputs": [
        {
          "output_type": "execute_result",
          "data": {
            "text/plain": [
              "[1, 8, 27, 64, 125]"
            ]
          },
          "metadata": {},
          "execution_count": 3
        }
      ]
    },
    {
      "cell_type": "code",
      "source": [
        "def evenFn(num):\n",
        "  return num%2==0"
      ],
      "metadata": {
        "id": "OP_0TKRwrUx5"
      },
      "execution_count": null,
      "outputs": []
    },
    {
      "cell_type": "code",
      "source": [
        "a = [0,1,2,3,4,5,6,7,8,9,10]\n",
        "print(list(map(evenFn,a)))\n",
        "print(list(filter(evenFn,a)))"
      ],
      "metadata": {
        "colab": {
          "base_uri": "https://localhost:8080/"
        },
        "id": "FXu0YtC6rk65",
        "outputId": "3b38a754-1db1-4f63-a111-c1d121d9178c"
      },
      "execution_count": null,
      "outputs": [
        {
          "output_type": "stream",
          "name": "stdout",
          "text": [
            "[True, False, True, False, True, False, True, False, True, False, True]\n",
            "[0, 2, 4, 6, 8, 10]\n"
          ]
        }
      ]
    },
    {
      "cell_type": "code",
      "source": [
        "#normal fn\n",
        "def cubeFn(num):\n",
        "  return num**4\n",
        "cubeFn(5)"
      ],
      "metadata": {
        "colab": {
          "base_uri": "https://localhost:8080/"
        },
        "id": "1R4ZCvU0sB3A",
        "outputId": "4ed559fb-4aa6-465d-c649-7fecc0ca70c1"
      },
      "execution_count": null,
      "outputs": [
        {
          "output_type": "execute_result",
          "data": {
            "text/plain": [
              "625"
            ]
          },
          "metadata": {},
          "execution_count": 8
        }
      ]
    },
    {
      "cell_type": "code",
      "source": [
        "# lambda\n",
        "cubeFn= lambda num:num**3\n",
        "cubeFn(6)"
      ],
      "metadata": {
        "colab": {
          "base_uri": "https://localhost:8080/"
        },
        "id": "10Tz7HmWsniu",
        "outputId": "4a0f99dd-4218-4ff7-988c-cdebbd9387b6"
      },
      "execution_count": null,
      "outputs": [
        {
          "output_type": "execute_result",
          "data": {
            "text/plain": [
              "216"
            ]
          },
          "metadata": {},
          "execution_count": 9
        }
      ]
    },
    {
      "cell_type": "code",
      "source": [
        "# normal fn with arguments\n",
        "def addR(a,b,c):\n",
        "  add = a+b+c\n",
        "  return add\n",
        "addR(10,20,30)\n"
      ],
      "metadata": {
        "colab": {
          "base_uri": "https://localhost:8080/"
        },
        "id": "3g8Y7LmPs2g_",
        "outputId": "ad492685-18b9-4acc-aeca-170d5dd6f77a"
      },
      "execution_count": null,
      "outputs": [
        {
          "output_type": "execute_result",
          "data": {
            "text/plain": [
              "60"
            ]
          },
          "metadata": {},
          "execution_count": 7
        }
      ]
    },
    {
      "cell_type": "code",
      "source": [
        "#purpose of args\n",
        "def addR(*argg):\n",
        "  return sum(argg)\n",
        "addR(10,20,30,40,50,52,75,8,5,36,15)"
      ],
      "metadata": {
        "colab": {
          "base_uri": "https://localhost:8080/"
        },
        "id": "CP5__v2esxA5",
        "outputId": "7b2b1326-3176-4bf7-f62b-17f092ac9c2d"
      },
      "execution_count": null,
      "outputs": [
        {
          "output_type": "execute_result",
          "data": {
            "text/plain": [
              "341"
            ]
          },
          "metadata": {},
          "execution_count": 15
        }
      ]
    },
    {
      "cell_type": "code",
      "source": [
        "def func(**kwargs):\n",
        "  if'name'in kwargs:\n",
        "    print(\"my name is {0}\".format(kwargs['name']))\n",
        "  if 'age' in kwargs:\n",
        "    print(\"my age is {0}\".format(kwargs['age']))\n",
        "  if 'marks' in kwargs:\n",
        "    print(\"my marks is {0}\".format(kwargs['marks']))\n",
        "  else:\n",
        "    print(\"no key found\")\n",
        "func(name='champ',age = 20,marks=100)"
      ],
      "metadata": {
        "colab": {
          "base_uri": "https://localhost:8080/"
        },
        "id": "arGpRMEFuJp-",
        "outputId": "665de238-8f7e-4c0b-e75d-4ed9b888a5d4"
      },
      "execution_count": null,
      "outputs": [
        {
          "output_type": "stream",
          "name": "stdout",
          "text": [
            "my name is champ\n",
            "my age is 20\n",
            "my marks is 100\n"
          ]
        }
      ]
    },
    {
      "cell_type": "code",
      "source": [
        "# python decoraters\n",
        "***@decName\n",
        "def func():\n",
        "  print(\"gfg\")\n",
        "EQUAL TO\n",
        "def func():\n",
        "  print(\"gfg\")\n",
        "\n",
        "func * decName(func)***\n",
        "\n",
        "\n"
      ],
      "metadata": {
        "id": "lUhlOtVqvTyK",
        "colab": {
          "base_uri": "https://localhost:8080/",
          "height": 106
        },
        "outputId": "b9ee5433-8c91-4717-f2bc-d9e6a3ddbeb9"
      },
      "execution_count": null,
      "outputs": [
        {
          "output_type": "error",
          "ename": "SyntaxError",
          "evalue": "invalid syntax (<ipython-input-6-7c497ca9685e>, line 2)",
          "traceback": [
            "\u001b[0;36m  File \u001b[0;32m\"<ipython-input-6-7c497ca9685e>\"\u001b[0;36m, line \u001b[0;32m2\u001b[0m\n\u001b[0;31m    ***@decName\u001b[0m\n\u001b[0m    ^\u001b[0m\n\u001b[0;31mSyntaxError\u001b[0m\u001b[0;31m:\u001b[0m invalid syntax\n"
          ]
        }
      ]
    },
    {
      "cell_type": "code",
      "source": [],
      "metadata": {
        "id": "0_xVdBboMD_P"
      },
      "execution_count": null,
      "outputs": []
    }
  ]
}